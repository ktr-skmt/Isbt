{
 "cells": [
  {
   "cell_type": "code",
   "execution_count": 4,
   "metadata": {},
   "outputs": [
    {
     "name": "stdout",
     "output_type": "stream",
     "text": [
      "[help] sbt-server needs an argument pair of host and port. For example, \"sbt-server localhost 334\"\n",
      "[help] When sbt-server has no argument, run \"sbt-server localhost 12700\" as default\n",
      "[help] You can add a dedicate port as \"serverPort := 12700\" in your build.sbt\n"
     ]
    }
   ],
   "source": [
    "sbt-server help"
   ]
  },
  {
   "cell_type": "code",
   "execution_count": 2,
   "metadata": {},
   "outputs": [],
   "source": [
    "sbt-server"
   ]
  },
  {
   "cell_type": "code",
   "execution_count": 2,
   "metadata": {
    "scrolled": true
   },
   "outputs": [
    {
     "name": "stdout",
     "output_type": "stream",
     "text": [
      "[\u001b[32;1msuccess\u001b[30m] Total time: 0:00:00.065301, completed 2017-09-18 09:57:05.185437\n"
     ]
    }
   ],
   "source": [
    "project libraries"
   ]
  },
  {
   "cell_type": "code",
   "execution_count": 3,
   "metadata": {},
   "outputs": [
    {
     "name": "stdout",
     "output_type": "stream",
     "text": [
      "[\u001b[32;1msuccess\u001b[30m] Total time: 0:00:00.060680, completed 2017-09-18 09:57:08.548780\n"
     ]
    }
   ],
   "source": [
    "project root"
   ]
  },
  {
   "cell_type": "code",
   "execution_count": 3,
   "metadata": {},
   "outputs": [
    {
     "name": "stdout",
     "output_type": "stream",
     "text": [
      "[info] Compiling 114 Scala sources to /Users/ilham/IdeaProjects/FelisCatusZero/target/scala-2.12/classes ...\n",
      "[\u001b[31;1merror\u001b[30m] expected class or object definition\n",
      "line: 26\n",
      "line content: bject CPERunner extends Thread {\n",
      "offset: 967\n",
      "pointer: 0\n",
      "pointer space: \"\"\n",
      "source path: /Users/ilham/IdeaProjects/FelisCatusZero/src/main/scala/uima/cpe/CPERunner.scala\n",
      "source file: /Users/ilham/IdeaProjects/FelisCatusZero/src/main/scala/uima/cpe/CPERunner.scala\n",
      "[\u001b[31;1merror\u001b[30m] one error found\n",
      "[\u001b[31;1merror\u001b[30m] (root/compile:\u001b[31mcompileIncremental\u001b[0m) Compilation failed\n",
      "[\u001b[31;1merror\u001b[30m] Total time: 0:00:11.310682, completed 2017-09-18 10:09:33.670083\n"
     ]
    }
   ],
   "source": [
    "compile"
   ]
  },
  {
   "cell_type": "code",
   "execution_count": 5,
   "metadata": {},
   "outputs": [
    {
     "name": "stdout",
     "output_type": "stream",
     "text": [
      "[\u001b[32;1msuccess\u001b[30m] Total time: 0:00:00.028618, completed 2017-09-18 10:02:53.086517\n"
     ]
    }
   ],
   "source": [
    "exit"
   ]
  },
  {
   "cell_type": "code",
   "execution_count": null,
   "metadata": {
    "collapsed": true
   },
   "outputs": [],
   "source": []
  }
 ],
 "metadata": {
  "kernelspec": {
   "display_name": "sbt",
   "language": "sbt",
   "name": "sbt"
  },
  "language_info": {
   "codemirror_mode": {
    "name": "ipython",
    "version": 3
   },
   "file_extension": ".py",
   "mimetype": "text/x-python",
   "name": "python",
   "nbconvert_exporter": "python",
   "pygments_lexer": "ipython3",
   "version": "3.6.1"
  }
 },
 "nbformat": 4,
 "nbformat_minor": 2
}
